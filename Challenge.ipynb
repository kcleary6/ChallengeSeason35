{
 "cells": [
  {
   "cell_type": "markdown",
   "metadata": {},
   "source": [
    "#  The Challenge Season 35 Random Draft\n",
    "## Randomly assigns two men and two women to each bettor"
   ]
  },
  {
   "cell_type": "markdown",
   "metadata": {},
   "source": [
    "![cdt](https://media.giphy.com/media/130lTcY0RKsJAQ/giphy.gif \"ct\")"
   ]
  },
  {
   "cell_type": "markdown",
   "metadata": {},
   "source": [
    "![bananas](https://media.giphy.com/media/Y8cDGlzRooO3u/giphy.gif \"jb\")"
   ]
  },
  {
   "cell_type": "markdown",
   "metadata": {},
   "source": [
    "![diem](https://miro.medium.com/max/552/1*D6t28byuNPrCfPngdeb4sw.gif \"diem\")"
   ]
  },
  {
   "cell_type": "markdown",
   "metadata": {},
   "source": [
    "### Choose a random seed number, edit bettor names then run all"
   ]
  },
  {
   "cell_type": "code",
   "execution_count": 402,
   "metadata": {},
   "outputs": [],
   "source": [
    "import numpy as np"
   ]
  },
  {
   "cell_type": "code",
   "execution_count": 403,
   "metadata": {},
   "outputs": [],
   "source": [
    "np.random.randomseed = 9"
   ]
  },
  {
   "cell_type": "code",
   "execution_count": 404,
   "metadata": {},
   "outputs": [],
   "source": [
    "bettors = [\"Bettor1\", \"Bettor2\", \"Bettor3\", \"Bettor4\", \"Bettor5\", \"Bettor6\", \"Bettor7\", \"Bettor8\", \"Bettor9\"]"
   ]
  },
  {
   "cell_type": "code",
   "execution_count": 405,
   "metadata": {},
   "outputs": [],
   "source": [
    "menNames = [\"Cory Wharton\",\n",
    "\"Chris 'CT'Tamburello\",\n",
    "\"Johnny 'Bananas' Devenanzio\",\n",
    "\"Jordan Wiseley\",\n",
    "\"Josh Martinez\",\n",
    "\"Kyle Christie\",\n",
    "\"Nelson Thomas\",\n",
    "\"Rogan O'Connor\",\n",
    "\"Stephen Bear\",\n",
    "\"Wes Bergmann\",\n",
    "\"Christopher Jordan 'Swaggy C' Williams\",\n",
    "\"Faysal Shawn 'Fessy' Shafaat\",\n",
    "\"Jay Starrett\"]"
   ]
  },
  {
   "cell_type": "code",
   "execution_count": 406,
   "metadata": {},
   "outputs": [],
   "source": [
    "womenNames = [\"Aneesa Ferreira\",\n",
    "\"Ashley Mitchell\",\n",
    "\"Dee Nguyen\",\n",
    "\"Jenna Compono\",\n",
    "\"Jennifer West\",\n",
    "\"Kailah Casillas\",\n",
    "\"Mattie Lynn Breux\",\n",
    "\"Melissa Reeves\",\n",
    "\"Nany Gonzalez\",\n",
    "\"Tori Deal\",\n",
    "\"Tula 'Big T' Fazakerley\",\n",
    "\"Bayleigh Dayton\",\n",
    "\"Jennifer Lee\",\n",
    "\"Kaycee Clark\"]"
   ]
  },
  {
   "cell_type": "code",
   "execution_count": 407,
   "metadata": {},
   "outputs": [],
   "source": [
    "def assignTeams(nBettors):\n",
    "    global counter\n",
    "    count = 0\n",
    "    menId = np.arange(13)\n",
    "    womenId = np.arange(14,27)\n",
    "    np.random.shuffle(menId)\n",
    "    np.random.shuffle(womenId)\n",
    "    men = np.zeros(( nBettors * 2))\n",
    "    women = np.zeros(( nBettors * 2))\n",
    "\n",
    "    for idx, val in enumerate(men):\n",
    "        if idx % len(menId) == 0:\n",
    "            np.random.shuffle(menId)\n",
    "            count += 1\n",
    "        men[idx] = menId[idx - len(menId) * count]\n",
    "    men = np.reshape(men, (2, nBettors))\n",
    "    count = 0\n",
    "\n",
    "    for idx, val in enumerate(women):\n",
    "        if idx % len(womenId) == 0:\n",
    "            np.random.shuffle(womenId)\n",
    "            count += 1\n",
    "        women[idx] = womenId[idx - len(womenId) * count]\n",
    "    women = np.reshape(women, (2, nBettors))\n",
    "\n",
    "    matrix = np.concatenate((men, women), axis=0)\n",
    "\n",
    "    for i in range(np.size(matrix,1)):\n",
    "        if (counter > 500):\n",
    "            return matrix\n",
    "            \n",
    "        if (len(np.unique(matrix[:,i])) != 4):\n",
    "            counter += 1\n",
    "            assignTeams(nBettors)\n",
    "        \n",
    "    return matrix  "
   ]
  },
  {
   "cell_type": "code",
   "execution_count": 408,
   "metadata": {},
   "outputs": [],
   "source": [
    "names = [*menNames, *womenNames]\n",
    "nBettors = len(bettors)\n",
    "counter = 0\n",
    "results = assignTeams(nBettors)"
   ]
  },
  {
   "cell_type": "code",
   "execution_count": 415,
   "metadata": {},
   "outputs": [
    {
     "name": "stdout",
     "output_type": "stream",
     "text": [
      "It took 1 iterations to get unique competitors \n",
      "\n",
      "Bettor1 has competitors:  [\"Chris 'CT'Tamburello\", \"Faysal Shawn 'Fessy' Shafaat\", \"Tula 'Big T' Fazakerley\", 'Ashley Mitchell']\n",
      "Bettor2 has competitors:  ['Kyle Christie', \"Christopher Jordan 'Swaggy C' Williams\", 'Jenna Compono', 'Kailah Casillas']\n",
      "Bettor3 has competitors:  [\"Johnny 'Bananas' Devenanzio\", 'Stephen Bear', 'Melissa Reeves', 'Jennifer West']\n",
      "Bettor4 has competitors:  ['Josh Martinez', 'Jordan Wiseley', 'Tori Deal', 'Nany Gonzalez']\n",
      "Bettor5 has competitors:  ['Nelson Thomas', 'Josh Martinez', 'Bayleigh Dayton', 'Kailah Casillas']\n",
      "Bettor6 has competitors:  ['Jay Starrett', \"Rogan O'Connor\", 'Dee Nguyen', 'Bayleigh Dayton']\n",
      "Bettor7 has competitors:  [\"Rogan O'Connor\", \"Faysal Shawn 'Fessy' Shafaat\", 'Mattie Lynn Breux', 'Kaycee Clark']\n",
      "Bettor8 has competitors:  ['Cory Wharton', \"Christopher Jordan 'Swaggy C' Williams\", 'Jennifer Lee', 'Tori Deal']\n",
      "Bettor9 has competitors:  ['Wes Bergmann', \"Chris 'CT'Tamburello\", 'Kaycee Clark', 'Jennifer West']\n"
     ]
    }
   ],
   "source": [
    "print(\"It took\", counter + 1,\"iterations to get unique competitors \\n\")\n",
    "for i in range(nBettors):\n",
    "    for idx, val in enumerate(results[:,i]):\n",
    "        list.append( names[int(val)] )\n",
    "    print( bettors[i], \"has competitors: \", list)\n",
    "    list = []"
   ]
  },
  {
   "cell_type": "code",
   "execution_count": null,
   "metadata": {},
   "outputs": [],
   "source": []
  }
 ],
 "metadata": {
  "kernelspec": {
   "display_name": "Python 3",
   "language": "python",
   "name": "python3"
  },
  "language_info": {
   "codemirror_mode": {
    "name": "ipython",
    "version": 3
   },
   "file_extension": ".py",
   "mimetype": "text/x-python",
   "name": "python",
   "nbconvert_exporter": "python",
   "pygments_lexer": "ipython3",
   "version": "3.7.4"
  }
 },
 "nbformat": 4,
 "nbformat_minor": 2
}
